{
  "nbformat": 4,
  "nbformat_minor": 0,
  "metadata": {
    "colab": {
      "provenance": [],
      "toc_visible": true,
      "authorship_tag": "ABX9TyOXpPgjFj/K4sZ5INOhf3/V",
      "include_colab_link": true
    },
    "kernelspec": {
      "name": "python3",
      "display_name": "Python 3"
    },
    "language_info": {
      "name": "python"
    }
  },
  "cells": [
    {
      "cell_type": "markdown",
      "metadata": {
        "id": "view-in-github",
        "colab_type": "text"
      },
      "source": [
        "<a href=\"https://colab.research.google.com/github/akshaymani/datascience-demo-2025/blob/main/DataScience.ipynb\" target=\"_parent\"><img src=\"https://colab.research.google.com/assets/colab-badge.svg\" alt=\"Open In Colab\"/></a>"
      ]
    },
    {
      "cell_type": "code",
      "execution_count": null,
      "metadata": {
        "id": "TsgV15Kc-CGG"
      },
      "outputs": [],
      "source": []
    },
    {
      "cell_type": "markdown",
      "source": [
        "##Ingest"
      ],
      "metadata": {
        "id": "7HqyBypf-aaM"
      }
    },
    {
      "cell_type": "code",
      "source": [],
      "metadata": {
        "id": "ieSMrDzE-zkN"
      },
      "execution_count": null,
      "outputs": []
    },
    {
      "cell_type": "markdown",
      "source": [
        "##EDA - Exploratory Data Analysis"
      ],
      "metadata": {
        "id": "uhr8nc7d-cN3"
      }
    },
    {
      "cell_type": "code",
      "source": [],
      "metadata": {
        "id": "jSxth92k-0eE"
      },
      "execution_count": null,
      "outputs": []
    },
    {
      "cell_type": "markdown",
      "source": [],
      "metadata": {
        "id": "s5GnAZo4-dhF"
      }
    },
    {
      "cell_type": "markdown",
      "source": [],
      "metadata": {
        "id": "C_plSCtZ-vPl"
      }
    },
    {
      "cell_type": "markdown",
      "source": [
        "##Modelling"
      ],
      "metadata": {
        "id": "on1dbO0i-fxT"
      }
    },
    {
      "cell_type": "markdown",
      "source": [
        "### Classification Algorithm A"
      ],
      "metadata": {
        "id": "ABrvGYv5_Oam"
      }
    },
    {
      "cell_type": "markdown",
      "source": [
        "### Classification Algorithm B"
      ],
      "metadata": {
        "id": "Rd08pgMU_Q-M"
      }
    },
    {
      "cell_type": "code",
      "source": [],
      "metadata": {
        "id": "3-SgyiON-1I2"
      },
      "execution_count": null,
      "outputs": []
    },
    {
      "cell_type": "markdown",
      "source": [
        "##Conclusion\n"
      ],
      "metadata": {
        "id": "IrYn593l-g3a"
      }
    },
    {
      "cell_type": "code",
      "source": [],
      "metadata": {
        "id": "BaQ9eb-d-1w-"
      },
      "execution_count": null,
      "outputs": []
    }
  ]
}